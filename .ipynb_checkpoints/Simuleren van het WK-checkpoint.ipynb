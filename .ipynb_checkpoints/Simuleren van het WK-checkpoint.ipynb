{
 "cells": [
  {
   "cell_type": "markdown",
   "id": "c3dbc205",
   "metadata": {},
   "source": [
    "### Math stochastiek: simuleren van het WK\n",
    "#### Student : Hussin Almoustafa\n",
    "#### Studentnummer : 1776495"
   ]
  },
  {
   "cell_type": "code",
   "execution_count": 14,
   "id": "50a29c38",
   "metadata": {
    "pycharm": {
     "is_executing": true
    }
   },
   "outputs": [],
   "source": [
    "#Import the needed liberies  \n",
    "import random\n",
    "import pandas as pd\n",
    "import math\n",
    "from concurrent.futures import ThreadPoolExecutor"
   ]
  },
  {
   "cell_type": "code",
   "execution_count": 2,
   "id": "c63f1050",
   "metadata": {
    "pycharm": {
     "is_executing": true
    }
   },
   "outputs": [
    {
     "data": {
      "text/html": [
       "<div>\n",
       "<style scoped>\n",
       "    .dataframe tbody tr th:only-of-type {\n",
       "        vertical-align: middle;\n",
       "    }\n",
       "\n",
       "    .dataframe tbody tr th {\n",
       "        vertical-align: top;\n",
       "    }\n",
       "\n",
       "    .dataframe thead th {\n",
       "        text-align: right;\n",
       "    }\n",
       "</style>\n",
       "<table border=\"1\" class=\"dataframe\">\n",
       "  <thead>\n",
       "    <tr style=\"text-align: right;\">\n",
       "      <th></th>\n",
       "      <th>rank</th>\n",
       "      <th>country</th>\n",
       "      <th>points</th>\n",
       "    </tr>\n",
       "  </thead>\n",
       "  <tbody>\n",
       "    <tr>\n",
       "      <th>0</th>\n",
       "      <td>1</td>\n",
       "      <td>Belgium</td>\n",
       "      <td>1780</td>\n",
       "    </tr>\n",
       "    <tr>\n",
       "      <th>1</th>\n",
       "      <td>2</td>\n",
       "      <td>France</td>\n",
       "      <td>1755</td>\n",
       "    </tr>\n",
       "    <tr>\n",
       "      <th>2</th>\n",
       "      <td>3</td>\n",
       "      <td>Brazil</td>\n",
       "      <td>1743</td>\n",
       "    </tr>\n",
       "    <tr>\n",
       "      <th>3</th>\n",
       "      <td>4</td>\n",
       "      <td>England</td>\n",
       "      <td>1670</td>\n",
       "    </tr>\n",
       "    <tr>\n",
       "      <th>4</th>\n",
       "      <td>5</td>\n",
       "      <td>Portugal</td>\n",
       "      <td>1662</td>\n",
       "    </tr>\n",
       "    <tr>\n",
       "      <th>...</th>\n",
       "      <td>...</td>\n",
       "      <td>...</td>\n",
       "      <td>...</td>\n",
       "    </tr>\n",
       "    <tr>\n",
       "      <th>205</th>\n",
       "      <td>206</td>\n",
       "      <td>Sri Lanka</td>\n",
       "      <td>853</td>\n",
       "    </tr>\n",
       "    <tr>\n",
       "      <th>206</th>\n",
       "      <td>207</td>\n",
       "      <td>US Virgin Islands</td>\n",
       "      <td>844</td>\n",
       "    </tr>\n",
       "    <tr>\n",
       "      <th>207</th>\n",
       "      <td>208</td>\n",
       "      <td>British Virgin Islands</td>\n",
       "      <td>842</td>\n",
       "    </tr>\n",
       "    <tr>\n",
       "      <th>208</th>\n",
       "      <td>209</td>\n",
       "      <td>Anguilla</td>\n",
       "      <td>821</td>\n",
       "    </tr>\n",
       "    <tr>\n",
       "      <th>209</th>\n",
       "      <td>210</td>\n",
       "      <td>San Marino</td>\n",
       "      <td>810</td>\n",
       "    </tr>\n",
       "  </tbody>\n",
       "</table>\n",
       "<p>210 rows × 3 columns</p>\n",
       "</div>"
      ],
      "text/plain": [
       "     rank                 country  points\n",
       "0       1                 Belgium    1780\n",
       "1       2                  France    1755\n",
       "2       3                  Brazil    1743\n",
       "3       4                 England    1670\n",
       "4       5                Portugal    1662\n",
       "..    ...                     ...     ...\n",
       "205   206               Sri Lanka     853\n",
       "206   207       US Virgin Islands     844\n",
       "207   208  British Virgin Islands     842\n",
       "208   209                Anguilla     821\n",
       "209   210              San Marino     810\n",
       "\n",
       "[210 rows x 3 columns]"
      ]
     },
     "execution_count": 2,
     "metadata": {},
     "output_type": "execute_result"
    }
   ],
   "source": [
    "# Load the data from the Excel file\n",
    "world_cup_data = pd.read_excel('fifa-ranking.xlsx')\n",
    "world_cup_data"
   ]
  },
  {
   "cell_type": "markdown",
   "id": "1b8d9f10",
   "metadata": {},
   "source": [
    "####  The poisson random number function\n",
    "is a custom-built random number generator for the Poisson distribution. The Poisson distribution is a probability distribution that models the number of occurrences of an event within a fixed interval of time or space. It is commonly used in various fields, such as physics, biology, and finance.\n",
    "\n",
    "The function takes a single parameter, $mean$, which represents the $mean$ value of the Poisson distribution. It first calculates a threshold value $L$ based on the mean using the exponential function. It then generates a random number u between 0 and 1 and multiplies it with a running product $p$. The number of iterations required to reach a product value p below the threshold value $L$ corresponds to a random number that follows a Poisson distribution with the specified mean."
   ]
  },
  {
   "cell_type": "code",
   "execution_count": 3,
   "id": "06d63dd1",
   "metadata": {},
   "outputs": [],
   "source": [
    "# Define the custom-built random number generator for the Poisson distribution\n",
    "def poisson_random_number(mean):\n",
    "    L = math.exp(-mean)\n",
    "    k = 0\n",
    "    p = 1\n",
    "    while p > L:\n",
    "        k += 1\n",
    "        u = random.uniform(0, 1)\n",
    "        p *= u\n",
    "    return k - 1\n"
   ]
  },
  {
   "cell_type": "markdown",
   "id": "b7e2d597",
   "metadata": {},
   "source": [
    "#### The generate rankings and matches function \n",
    "\n",
    "\n",
    "This function takes in a pandas $DataFrame$ data containing a list of countries along with their corresponding ranking and points. The function first sorts the DataFrame by rank, and then generates a rankings dictionary where the keys are the country names and the values are the corresponding points.\n",
    "\n",
    "The function then generates a matches list where each element of the list is a tuple containing two team names. This list is generated by looping through all possible pairs of teams in the DataFrame and adding each pair to the list. The matches list is then returned along with the rankings dictionary. "
   ]
  },
  {
   "cell_type": "code",
   "execution_count": 15,
   "id": "a285d2c4",
   "metadata": {},
   "outputs": [],
   "source": [
    "def generate_rankings_and_matches(data):\n",
    "    # Sort the data by rank\n",
    "    data = data.sort_values(by=\"rank\")\n",
    "    \n",
    "    # Generate the rankings dictionary\n",
    "    rankings = {}\n",
    "    for index, row in data.iterrows():\n",
    "        rankings[row[\"country\"]] = row[\"points\"]\n",
    "    \n",
    "    # Generate the matches list\n",
    "    matches = []\n",
    "    for i in range(0, len(data)-1):\n",
    "        for j in range(i+1, len(data)):\n",
    "            team1 = data.iloc[i][\"country\"]\n",
    "            team2 = data.iloc[j][\"country\"]\n",
    "            matches.append((team1, team2))\n",
    "    \n",
    "    return rankings, matches"
   ]
  },
  {
   "cell_type": "markdown",
   "id": "9a497240",
   "metadata": {},
   "source": [
    "#### The Simulate matches function\n",
    "\n",
    "\n",
    "This function simulates matches between teams using the Poisson distribution and returns the number of wins for each team. It takes two arguments, rankings and matches, which are generated by the **generate_rankings_and_matches** function.\n",
    "\n",
    "The function first creates a dictionary **win_counts** that stores the number of **wins** for each team. It then shuffles the order of the matches using the **random.shuffle** function to introduce randomness in the simulation. It then loops through each match and uses the Poisson distribution to simulate the number of goals scored by each team. The team with the most goals is declared the winner, and their win count is incremented in the win_counts dictionary.\n",
    "\n",
    "Finally, the function returns the win_counts dictionary, which contains the number of wins for each team after simulating all the matches."
   ]
  },
  {
   "cell_type": "code",
   "execution_count": 5,
   "id": "6fea19e9",
   "metadata": {},
   "outputs": [],
   "source": [
    "def simulate_matches(rankings, matches):\n",
    "    win_counts = {country: 0 for country in rankings.keys()}\n",
    "    # Shuffle the order of the matches for each simulation\n",
    "    random.shuffle(matches)\n",
    "    # Simulate each match and update the win counts\n",
    "    for match in matches:\n",
    "        team1, team2 = match\n",
    "        mean1, mean2 = rankings[team1], rankings[team2]\n",
    "        goals1 = poisson_random_number(mean1)\n",
    "        goals2 = poisson_random_number(mean2)\n",
    "        if goals1 > goals2:\n",
    "            win_counts[team1] += 1\n",
    "        elif goals1 < goals2:\n",
    "            win_counts[team2] += 1\n",
    "    return win_counts"
   ]
  },
  {
   "cell_type": "code",
   "execution_count": 12,
   "id": "a467081f",
   "metadata": {},
   "outputs": [],
   "source": [
    "top_32 = world_cup_data.sort_values('rank').head(32)\n",
    "rankings, matches = generate_rankings_and_matches(top_32)\n",
    "num_simulations = 1000"
   ]
  },
  {
   "cell_type": "code",
   "execution_count": 13,
   "id": "3de480c9",
   "metadata": {},
   "outputs": [
    {
     "name": "stdout",
     "output_type": "stream",
     "text": [
      "England: 15612 (1561.20%)\n",
      "Switzerland: 15547 (1554.70%)\n",
      "Tunisia: 15547 (1554.70%)\n",
      "Wales: 15537 (1553.70%)\n",
      "Peru: 15505 (1550.50%)\n",
      "Serbia: 15491 (1549.10%)\n",
      "Belgium: 15451 (1545.10%)\n",
      "Japan: 15432 (1543.20%)\n",
      "Argentina: 15422 (1542.20%)\n",
      "USA: 15419 (1541.90%)\n",
      "Brazil: 15395 (1539.50%)\n",
      "Mexico: 15363 (1536.30%)\n",
      "Netherlands: 15358 (1535.80%)\n",
      "Chile: 15357 (1535.70%)\n",
      "Ukraine: 15353 (1535.30%)\n",
      "Colombia: 15344 (1534.40%)\n",
      "Turkey: 15336 (1533.60%)\n",
      "Denmark: 15332 (1533.20%)\n",
      "Austria: 15329 (1532.90%)\n",
      "Algeria: 15327 (1532.70%)\n",
      "Sweden: 15305 (1530.50%)\n",
      "IR Iran: 15300 (1530.00%)\n",
      "Uruguay: 15272 (1527.20%)\n",
      "France: 15269 (1526.90%)\n",
      "Portugal: 15252 (1525.20%)\n",
      "Italy: 15244 (1524.40%)\n",
      "Spain: 15211 (1521.10%)\n",
      "Senegal: 15186 (1518.60%)\n",
      "Poland: 15153 (1515.30%)\n",
      "Venezuela: 15133 (1513.30%)\n",
      "Germany: 15129 (1512.90%)\n",
      "Croatia: 15008 (1500.80%)\n"
     ]
    }
   ],
   "source": [
    "# Create a thread pool to run simulations in parallel\n",
    "with ThreadPoolExecutor(max_workers=4) as executor:\n",
    "    futures = [executor.submit(simulate_matches, rankings, matches) for i in range(num_simulations)]\n",
    "\n",
    "win_counts = {country: 0 for country in rankings.keys()}\n",
    "# Combine the results from all the simulations\n",
    "for future in futures:\n",
    "    result = future.result()\n",
    "    for country, count in result.items():\n",
    "        win_counts[country] += count\n",
    "\n",
    "# Print the results\n",
    "for country, count in sorted(win_counts.items(), key=lambda x: x[1], reverse=True):\n",
    "    print(f\"{country}: {count} ({count / num_simulations * 100:.2f}%)\")"
   ]
  },
  {
   "cell_type": "markdown",
   "id": "1d8303c6",
   "metadata": {},
   "source": [
    "Here below are the World cup simulation using the Mersenne Twister algorithm.\n",
    "\n",
    "**There is something missing in Simulating the match using the Poisson distribution** \n",
    "\n",
    "i really have no idea why it take so long :( "
   ]
  },
  {
   "cell_type": "code",
   "execution_count": 20,
   "id": "37c821c2",
   "metadata": {
    "pycharm": {
     "is_executing": true
    }
   },
   "outputs": [],
   "source": [
    "def mt19937(seed):\n",
    "    \"\"\"\n",
    "    Function: mt19937\n",
    "\n",
    "    This function generates random numbers using the Mersenne Twister algorithm.\n",
    "\n",
    "    Parameters:\n",
    "\n",
    "    seed : int : the seed value to initialize the random number generator.\n",
    "\n",
    "    Returns:\n",
    "\n",
    "    A generator object that yields a sequence of 32-bit unsigned integer random numbers.\n",
    "\n",
    "    Algorithm:\n",
    "\n",
    "    The Mersenne Twister algorithm is a pseudorandom number generator that produces a sequence of numbers that are uniformly distributed.\n",
    "    The algorithm is based on a matrix linear recurrence over a finite field. The matrix is designed to have a long period and good statistical properties.\n",
    "    The algorithm generates a sequence of 624 32-bit unsigned integers using the seed value.\n",
    "    The algorithm uses a tempering function to improve the statistical properties of the sequence.\n",
    "    The algorithm also uses a twist function to generate a new set of numbers based on the previous 624 numbers in the sequence.\n",
    "\n",
    "    Usage:\n",
    "\n",
    "    The mt19937 function can be used to generate random numbers for various applications, such as simulations, cryptography, and statistical analysis.\n",
    "    Example usage: rng = mt19937(1234), random_number = next(rng)\n",
    "    \"\"\"\n",
    "    # Initialize the state array with a seed value\n",
    "    state = np.zeros(624, dtype=np.uint32)\n",
    "    state[0] = seed\n",
    "    for i in range(1, 624):\n",
    "        state[i] = (1812433253 * (state[i-1] ^ (state[i-1] >> 30)) + i) & 0xffffffff\n",
    "\n",
    "    # Generate a sequence of 624 random numbers\n",
    "    index = 0\n",
    "    while True:\n",
    "        if index == 0:\n",
    "            state = _twist(state)\n",
    "        y = state[index]\n",
    "        y = y ^ (y >> 11)\n",
    "        y = y ^ ((y << 7) & 0x9d2c5680)\n",
    "        y = y ^ ((y << 15) & 0xefc60000)\n",
    "        y = y ^ (y >> 18)\n",
    "        index = (index + 1) % 624\n",
    "        yield y"
   ]
  },
  {
   "cell_type": "code",
   "execution_count": 17,
   "id": "991534ed",
   "metadata": {
    "pycharm": {
     "is_executing": true
    }
   },
   "outputs": [],
   "source": [
    "def poisson(lambda_):\n",
    "    \"\"\"\n",
    "    Generate a Poisson-distributed random variable using the algorithm by Knuth.\n",
    "    \"\"\"\n",
    "    L = np.exp(-lambda_)\n",
    "    p = 1.0\n",
    "    k = 0\n",
    "    while p > L:\n",
    "        k += 1\n",
    "        p *= np.random.uniform(0, 1)\n",
    "    return k - 1"
   ]
  },
  {
   "cell_type": "code",
   "execution_count": 18,
   "id": "c511a210",
   "metadata": {
    "pycharm": {
     "is_executing": true
    }
   },
   "outputs": [],
   "source": [
    "def generate_matches(df):\n",
    "    seed = 42\n",
    "     # Generate a list of teams\n",
    "    teams = df['country'].tolist()\n",
    "    # Define the Mersenne Twister random number generator\n",
    "    rng = mt19937(seed)\n",
    "    # Loop over every team combination and generate a match\n",
    "    matches = []\n",
    "    for i, home_team in enumerate(teams):\n",
    "        for away_team in teams[i+1:]:\n",
    "            # Generate the Poisson distribution with lambda parameter\n",
    "            lambda_ = df.loc[df['country'] == home_team, 'points'].iloc[0]\n",
    "            poisson_dist = partial(poisson, lambda_=lambda_, rng=rng)\n",
    "            # Simulate the match using the Poisson distribution\n",
    "            home_score, away_score = poisson_dist(), poisson_dist()\n",
    "            # Add the match to the list of matches\n",
    "            matches.append({'Home Team': home_team, 'Away Team': away_team, 'Home Score': home_score, 'Away Score': away_score})\n",
    "    # Convert the list of matches to a pandas DataFrame\n",
    "    matches = pd.DataFrame(matches)\n",
    "    return matches"
   ]
  },
  {
   "cell_type": "code",
   "execution_count": 19,
   "id": "108cca22",
   "metadata": {
    "pycharm": {
     "is_executing": true
    }
   },
   "outputs": [],
   "source": [
    "def simulate_world_cup(df: pd.DataFrame, num_simulations: int, seed: int) -> dict:\n",
    "    \"\"\"\n",
    "    Simulates the World Cup tournament for a given dataframe of teams and their rankings.\n",
    "\n",
    "    Args:\n",
    "        df (pd.DataFrame): A dataframe containing the teams and their rankings.\n",
    "        num_simulations (int): The number of times to simulate the tournament.\n",
    "        seed (int): The seed for the random number generator.\n",
    "\n",
    "    Returns:\n",
    "        dict: A dictionary containing the number of times each team won the tournament.\n",
    "    \"\"\"\n",
    "    rng = np.random.default_rng(seed)\n",
    "    matches = generate_matches(df)\n",
    "    results = {team: 0 for team in df['country']}\n",
    "    for i in range(num_simulations):\n",
    "        tournament_results = df.copy()\n",
    "        tournament_results['points'] = 0\n",
    "        for j, match in matches.iterrows():\n",
    "            home_team, away_team = match[['Home Team', 'Away Team']]\n",
    "            home_score = poisson(df.loc[df['country'] == home_team, 'rank'].iloc[0], rng)\n",
    "            away_score = poisson(df.loc[df['country'] == away_team, 'rank'].iloc[0], rng)\n",
    "            if home_score > away_score:\n",
    "                tournament_results.loc[tournament_results['country'] == home_team, 'points'] += 3\n",
    "            elif away_score > home_score:\n",
    "                tournament_results.loc[tournament_results['country'] == away_team, 'points'] += 3\n",
    "            else:\n",
    "                tournament_results.loc[tournament_results['country'].isin([home_team, away_team]), 'points'] += 1\n",
    "        tournament_results = tournament_results.sort_values(by=['points', 'rank'], ascending=False)\n",
    "        winner = tournament_results['country'].iloc[0]\n",
    "        results[winner] += 1\n",
    "    return results"
   ]
  },
  {
   "cell_type": "code",
   "execution_count": null,
   "id": "23badf64",
   "metadata": {
    "pycharm": {
     "is_executing": true
    }
   },
   "outputs": [],
   "source": [
    "matches = generate_matches(world_cup_data[:4])"
   ]
  },
  {
   "cell_type": "code",
   "execution_count": null,
   "id": "cb05353f",
   "metadata": {
    "pycharm": {
     "is_executing": true
    }
   },
   "outputs": [],
   "source": [
    "simulate_world_cup(matches, 1000, 12345)"
   ]
  }
 ],
 "metadata": {
  "kernelspec": {
   "display_name": "Python 3 (ipykernel)",
   "language": "python",
   "name": "python3"
  },
  "language_info": {
   "codemirror_mode": {
    "name": "ipython",
    "version": 3
   },
   "file_extension": ".py",
   "mimetype": "text/x-python",
   "name": "python",
   "nbconvert_exporter": "python",
   "pygments_lexer": "ipython3",
   "version": "3.8.5"
  }
 },
 "nbformat": 4,
 "nbformat_minor": 5
}
