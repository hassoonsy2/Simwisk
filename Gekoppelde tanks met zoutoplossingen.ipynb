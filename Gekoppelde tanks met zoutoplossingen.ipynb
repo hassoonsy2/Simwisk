{
 "cells": [
  {
   "cell_type": "markdown",
   "metadata": {},
   "source": [
    "## Gekoppelde tanks met zoutoplossingen\n",
    "\n",
    "Student : Hussin Almoustafa"
   ]
  },
  {
   "cell_type": "markdown",
   "metadata": {},
   "source": [
    "Twee grote tanks, elk gevuld met 100 liter vloeistof, zijn verbonden door pijpleidingen. De vloeistof stroomt van tank A naar tank B met een snelheid van 3 L/min en van B naar A met 1 L/min.\n",
    "Een zoutoplossing met een concentratie van 0,2 kg/L stroomt in tank A met een snelheid van 6 L/min. De oplossing stroomt uit tank A met een snelheid van 4 L/min en verlaat tank B met een snelheid van 2 L/min.\n",
    "\n",
    "\n",
    "Voor deze opdracht werd hen gevraagd het verloop van de zoutconcentratie in de tanks in kaart te brengen.\n",
    "door het gebruik van de euler methode. "
   ]
  },
  {
   "cell_type": "code",
   "execution_count": 20,
   "metadata": {},
   "outputs": [],
   "source": [
    "import numpy as np\n",
    "import matplotlib.pyplot as plt\n",
    "import seaborn as sns"
   ]
  },
  {
   "cell_type": "markdown",
   "metadata": {},
   "source": [
    "Om de Euler-methode prominenter te maken bij het uitzetten van het verloop in de zoutconcentratie, is het proces nu opgedeeld in stappen.\n",
    "\n",
    "1 - Eerst wordt de tijdstap bijgewerkt.\n",
    "\n",
    "2 - Het volume van de tank wordt opnieuw berekend.\n",
    "\n",
    "3 - De hoeveelheid zout in de tank (in kg) wordt berekend.\n",
    "\n",
    "4 - De nieuwe concentratie wordt berekend op basis van het volume en de hoeveelheid zout in de tank.\n"
   ]
  },
  {
   "cell_type": "code",
   "execution_count": 21,
   "metadata": {},
   "outputs": [],
   "source": [
    "def forward_euler(n):\n",
    "    \n",
    "    \"\"\" Er zijn verschillende stappenprocedures uitgevoerd. Dit wordt gedaan om de zuiverheid van de code te behouden.\"\"\"\n",
    "    # alt-concentratie in kg/L\n",
    "    x = np.zeros(n + 1)\n",
    "    y = np.zeros(n + 1)\n",
    "    \n",
    "    # kg zout in de tank\n",
    "    m_x = np.zeros(n + 1)\n",
    "    m_y = np.zeros(n + 1)\n",
    "    \n",
    "    # volume in de tank\n",
    "    v_x = np.zeros(n + 1)\n",
    "    v_y = np.zeros(n + 1)\n",
    "    \n",
    "    \n",
    "    # volume op punt 0\n",
    "    v_x[0] = 100\n",
    "    v_y[0] = 100\n",
    "    \n",
    "    # kg zout op punt 0\n",
    "    m_x[0] = 0\n",
    "    m_y[0] = 20\n",
    "\n",
    "\n",
    "    \n",
    "    v_o2x = 6 # buiten naar tank x \n",
    "    v_x2o = 4  # tank x naar buiten\n",
    "    v_x2y = 3  # tank x naar tank y\n",
    "    v_y2x = 1 # tank y naar tank x\n",
    "    v_y2o = 2 # tank y naar buiten\n",
    "    c_o2x = 0.2 # conc buiten naar tank x\n",
    "    \n",
    "\n",
    "\n",
    "\n",
    "    # concentratie op punt 0\n",
    "    x[0] = m_x[0] / v_x[0]\n",
    "    y[0] = m_y[0] / v_y[0]\n",
    "    \n",
    "    for step in range(n):\n",
    "        #update de volumes\n",
    "        v_x[step + 1] = v_x[step] + v_o2x - v_x2y - v_x2o + v_y2x\n",
    "        v_y[step + 1] = v_y[step] + v_x2y - v_y2x - v_y2o\n",
    "        \n",
    "        # bereken de hoeveelheid bewegend zout\n",
    "        x_salt_in = (v_o2x * c_o2x) + (v_y2x * y[step])\n",
    "        x_salt_out = (v_x2y * x[step]) + (v_x2o * x[step])\n",
    "        \n",
    "        # de hoeveelheid zout in de tank bijwerken x\n",
    "        m_x[step + 1] = m_x[step] + x_salt_in - x_salt_out\n",
    "        \n",
    "        # bereken de hoeveelheid bewegend zout\n",
    "        y_salt_in = v_x2y * x[step]\n",
    "        y_salt_out = (v_y2x * y[step]) + (v_y2o * y[step])\n",
    "        \n",
    "        # update de hoeveelheid zout in de tank y\n",
    "        m_y[step + 1] = m_y[step] + y_salt_in - y_salt_out\n",
    "        \n",
    "        # update de concentratie\n",
    "        x[step + 1] = m_x[step] / v_x[step]\n",
    "        y[step + 1] = m_y[step] / v_y[step]\n",
    "    \n",
    "    return x, y"
   ]
  },
  {
   "cell_type": "code",
   "execution_count": 22,
   "metadata": {},
   "outputs": [
    {
     "data": {
      "image/png": "[encoded data removed]",
      "text/plain": [
       "<Figure size 432x288 with 1 Axes>"
      ]
     },
     "metadata": {},
     "output_type": "display_data"
    }
   ],
   "source": [
    "num_steps = 200\n",
    "Liters = 100\n",
    "conc_tank1, conc_tank2 = forward_euler(num_steps)\n",
    "x = [x for x in range(0, num_steps + 1, 1)]\n",
    "\n",
    "sns.set(context=\"notebook\")\n",
    "\n",
    "\n",
    "\n",
    "# plot the first tank\n",
    "plt.plot(x, conc_tank1, label=f\"Tank 1; Eindconc: {conc_tank1[-1]:.2f}\")\n",
    "# plot the second tank\n",
    "plt.plot(x, conc_tank2, label=f\"Tank 2; Eindconc: {conc_tank2[-1]:.2f}\")\n",
    "\n",
    "plt.xlim(0, num_steps)\n",
    "plt.ylim(bottom=0)\n",
    "\n",
    "plt.title(f\"Concentratie in kg/L in twee tanks van {Liters} liters\")\n",
    "plt.xlabel(\"Aantal stappen\")\n",
    "plt.ylabel(\"Concentratie in kg/L\")\n",
    "plt.legend(loc=\"lower right\")\n",
    "plt.tight_layout()\n",
    "plt.show()\n",
    "\n",
    "\n"
   ]
  },
  {
   "cell_type": "code",
   "execution_count": null,
   "metadata": {},
   "outputs": [],
   "source": []
  },
  {
   "cell_type": "code",
   "execution_count": null,
   "metadata": {},
   "outputs": [],
   "source": []
  }
 ],
 "metadata": {
  "kernelspec": {
   "display_name": "Python 3",
   "language": "python",
   "name": "python3"
  },
  "language_info": {
   "codemirror_mode": {
    "name": "ipython",
    "version": 3
   },
   "file_extension": ".py",
   "mimetype": "text/x-python",
   "name": "python",
   "nbconvert_exporter": "python",
   "pygments_lexer": "ipython3",
   "version": "3.8.5"
  }
 },
 "nbformat": 4,
 "nbformat_minor": 4
}
